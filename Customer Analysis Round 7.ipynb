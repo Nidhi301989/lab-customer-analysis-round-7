{
 "cells": [
  {
   "cell_type": "markdown",
   "id": "a73f02cc",
   "metadata": {},
   "source": [
    "# Lab | Customer Analysis Round 7"
   ]
  },
  {
   "cell_type": "code",
   "execution_count": null,
   "id": "bd9ae94b",
   "metadata": {},
   "outputs": [],
   "source": [
    "# To improve the linear regression mode"
   ]
  },
  {
   "cell_type": "markdown",
   "id": "b9a1cd91",
   "metadata": {},
   "source": [
    "Let's start by loading and cleaning the data. We'll create a function for data cleaning that includes steps from previous rounds."
   ]
  },
  {
   "cell_type": "code",
   "execution_count": null,
   "id": "95f7d1d5",
   "metadata": {},
   "outputs": [],
   "source": [
    "import pandas as pd\n",
    "import numpy as np\n",
    "from sklearn.model_selection import train_test_split\n",
    "from sklearn.pipeline import Pipeline\n",
    "from sklearn.compose import ColumnTransformer\n",
    "from sklearn.impute import SimpleImputer\n",
    "from sklearn.preprocessing import OneHotEncoder, StandardScaler, PowerTransformer\n",
    "from sklearn.linear_model import LinearRegression\n",
    "from sklearn.metrics import mean_squared_error, r2_score\n",
    "from statsmodels.stats.outliers_influence import variance_inflation_factor\n",
    "\n",
    "# Load the data\n",
    "file_path = 'marketing_customer_analysis.csv'\n",
    "df = pd.read_csv(file_path)\n",
    "\n",
    "def clean_data(df):\n",
    "    # Dropping irrelevant columns\n",
    "    df = df.drop(columns=['customer', 'effective_to_date'])\n",
    "    \n",
    "    # Fixing column names\n",
    "    df.columns = df.columns.str.lower().str.replace(' ', '_')\n",
    "    \n",
    "    # Converting data types\n",
    "    df['number_of_open_complaints'] = pd.to_numeric(df['number_of_open_complaints'], errors='coerce')\n",
    "    df['vehicle_class'] = df['vehicle_class'].astype('category')\n",
    "    \n",
    "    # Handling missing values\n",
    "    df = df.dropna()\n",
    "    \n",
    "    return df\n",
    "\n",
    "df = clean_data(df)\n"
   ]
  },
  {
   "cell_type": "markdown",
   "id": "8dddfb63",
   "metadata": {},
   "source": [
    "We'll check for multicollinearity, apply transformations to numerical features, and prepare for encoding categorical features."
   ]
  },
  {
   "cell_type": "code",
   "execution_count": null,
   "id": "f2bcb5d1",
   "metadata": {},
   "outputs": [],
   "source": [
    "# Checking for multicollinearity\n",
    "def calculate_vif(df, features):\n",
    "    X = df[features]\n",
    "    X['intercept'] = 1  # Add an intercept term for VIF calculation\n",
    "    vif = pd.DataFrame()\n",
    "    vif['variable'] = X.columns\n",
    "    vif['VIF'] = [variance_inflation_factor(X.values, i) for i in range(X.shape[1])]\n",
    "    return vif.drop(index=X.columns.get_loc('intercept'))\n",
    "\n",
    "# Select numerical features for VIF calculation\n",
    "numerical_features = ['customer_lifetime_value', 'income', 'monthly_premium_auto', 'months_since_last_claim', 'months_since_policy_inception', 'number_of_policies']\n",
    "\n",
    "vif_df = calculate_vif(df, numerical_features)\n",
    "print(vif_df)\n",
    "\n",
    "# Drop features with high VIF (VIF > 10 indicates high multicollinearity)\n",
    "df = df.drop(columns=['customer_lifetime_value'])\n",
    "\n",
    "# Transforming numerical features to be more normally distributed\n",
    "numerical_features = ['income', 'monthly_premium_auto', 'months_since_last_claim', 'months_since_policy_inception', 'number_of_policies']\n",
    "pt = PowerTransformer()\n",
    "df[numerical_features] = pt.fit_transform(df[numerical_features])\n",
    "\n",
    "# OneHotEncoding categorical features\n",
    "categorical_features = df.select_dtypes(include=['object', 'category']).columns.tolist()\n",
    "df = pd.get_dummies(df, columns=categorical_features, drop_first=True)\n"
   ]
  },
  {
   "cell_type": "raw",
   "id": "fc171dbf",
   "metadata": {},
   "source": [
    " We'll build a pipeline for our model and try different train-test splits."
   ]
  },
  {
   "cell_type": "code",
   "execution_count": null,
   "id": "b52b725d",
   "metadata": {},
   "outputs": [],
   "source": [
    "# Defining the features and target variable\n",
    "X = df.drop(columns=['total_claim_amount'])\n",
    "y = df['total_claim_amount']\n",
    "\n",
    "# Different train-test splits\n",
    "splits = [0.3, 0.2, 0.1]\n",
    "\n",
    "results = []\n",
    "\n",
    "for test_size in splits:\n",
    "    X_train, X_test, y_train, y_test = train_test_split(X, y, test_size=test_size, random_state=0)\n",
    "    \n",
    "    # Standard scaling of numerical features\n",
    "    numeric_transformer = Pipeline(steps=[\n",
    "        ('imputer', SimpleImputer(strategy='median')),\n",
    "        ('scaler', StandardScaler())\n",
    "    ])\n",
    "    \n",
    "    # Preprocessing pipeline\n",
    "    preprocessor = ColumnTransformer(\n",
    "        transformers=[\n",
    "            ('num', numeric_transformer, numerical_features)\n",
    "        ], remainder='passthrough'\n",
    "    )\n",
    "    \n",
    "    # Linear regression model pipeline\n",
    "    model = Pipeline(steps=[\n",
    "        ('preprocessor', preprocessor),\n",
    "        ('regressor', LinearRegression())\n",
    "    ])\n",
    "    \n",
    "    # Training the model\n",
    "    model.fit(X_train, y_train)\n",
    "    \n",
    "    # Making predictions\n",
    "    y_pred = model.predict(X_test)\n",
    "    \n",
    "    # Model validation\n",
    "    mse = mean_squared_error(y_test, y_pred)\n",
    "    r2 = r2_score(y_test, y_pred)\n",
    "    \n",
    "    results.append({'test_size': test_size, 'MSE': mse, 'R2': r2})\n",
    "\n",
    "results_df = pd.DataFrame(results)\n",
    "print(results_df)\n"
   ]
  },
  {
   "cell_type": "code",
   "execution_count": null,
   "id": "16e46f5d",
   "metadata": {},
   "outputs": [],
   "source": [
    "Summary\n",
    "This code:\n",
    "\n",
    "1.Loads and cleans the data.\n",
    "2.Checks and handles multicollinearity.\n",
    "3.Applies transformations to numerical features.\n",
    "4.Encodes categorical features using OneHotEncoder.\n",
    "5.Builds and evaluates linear regression models with different train-test splits."
   ]
  }
 ],
 "metadata": {
  "kernelspec": {
   "display_name": "Python 3 (ipykernel)",
   "language": "python",
   "name": "python3"
  },
  "language_info": {
   "codemirror_mode": {
    "name": "ipython",
    "version": 3
   },
   "file_extension": ".py",
   "mimetype": "text/x-python",
   "name": "python",
   "nbconvert_exporter": "python",
   "pygments_lexer": "ipython3",
   "version": "3.9.13"
  }
 },
 "nbformat": 4,
 "nbformat_minor": 5
}
